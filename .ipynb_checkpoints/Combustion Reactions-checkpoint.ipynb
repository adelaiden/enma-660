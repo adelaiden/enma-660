{
 "cells": [
  {
   "cell_type": "code",
   "execution_count": 1,
   "metadata": {
    "collapsed": true
   },
   "outputs": [],
   "source": [
    "from pymatgen import MPRester, Element, Composition\n",
    "from pymatgen.phasediagram.maker import PhaseDiagram\n",
    "from pymatgen.phasediagram.entries import PDEntry\n",
    "from pymatgen.phasediagram.analyzer import PDAnalyzer\n",
    "from pymatgen.analysis.reaction_calculator import ComputedReaction\n",
    "import matplotlib.pyplot as plt\n",
    "import sys"
   ]
  },
  {
   "cell_type": "code",
   "execution_count": 29,
   "metadata": {
    "collapsed": true
   },
   "outputs": [],
   "source": [
    "def get_chempots_phases_enthalpies(chsys, formula, elem):\n",
    "    chempots = [] #critical chemical potentials at every transition point\n",
    "    evolutions = [] \n",
    "    phases = []\n",
    "    enthalpies = []\n",
    "    reactions = []\n",
    "    yvec = []\n",
    "    \n",
    "    exclusion_list = ['LiS4','S8O']\n",
    "    with MPRester() as m:\n",
    "        entries = m.get_entries_in_chemsys(chsys)\n",
    "        mpentry = m.get_entries(formula) #gets all MP-entries associated with given composition\n",
    "    \n",
    "    entries = [e for e in entries if e.name not in exclusion_list]\n",
    "    comp_entry = Composition(formula)\n",
    "    pd = PhaseDiagram(entries)\n",
    "    pda = PDAnalyzer(pd)\n",
    "    evolution_profile = pda.get_element_profile(Element(elem), comp_entry)\n",
    "    ref = evolution_profile[0]['element_reference'].energy_per_atom\n",
    "    \n",
    "    if len(mpentry) == 0: #composition is metastable, so force it to lie on the convex hull\n",
    "        compound = PDEntry(Composition(formula), 0)\n",
    "        e0 = pda.get_e_above_hull(compound)\n",
    "        compound = PDEntry(Composition(formula), -(e0/comp_entry.num_atoms))\n",
    "    else: #otherwise return the most stable entry in the list of MP-entries. This entry can be metastable.\n",
    "            #in the future, may want to include a shift of \"e-above-hull\" to set this compound on the x-axis\n",
    "        mpentry = sorted(mpentry, key=lambda e: e.energy_per_atom)\n",
    "        compound = mpentry[0]\n",
    "    \n",
    "    reac = [compound]\n",
    "    reac.append(evolution_profile[0]['element_reference'])\n",
    "    \n",
    "    for stage in evolution_profile:\n",
    "        chempots.append(stage['chempot'] - ref)\n",
    "        evolutions.append(stage['evolution'])\n",
    "        namelist = []\n",
    "        for entry in stage['entries']:\n",
    "            namelist.append(entry.name)\n",
    "        phases.append(namelist)\n",
    "    \n",
    "    yshift = 0  #initialize y-shift\n",
    "    window = False #assume the compound has no stability window at first\n",
    "    for stage in evolution_profile:\n",
    "        rxn = ComputedReaction(reac, stage['entries']) #calculate reaction enthalpy\n",
    "        rxn.normalize_to(Composition(compound.name))\n",
    "        enthalpies.append(rxn.calculated_reaction_energy)\n",
    "        reactions.append(str(rxn))\n",
    "        if abs(stage['evolution']) < 0.0001: #the compound has a stability window\n",
    "            window = True\n",
    "            yshift = stage['evolution']*stage['chempot'] + rxn.calculated_reaction_energy\n",
    "    \n",
    "    if not window: #if there is no stability window, check if it is metastable\n",
    "        ehull = pda.get_e_above_hull(compound)\n",
    "        if ehull > 0: #the compound is metastable\n",
    "            yshift = -(ehull*comp_entry.num_atoms) #set y-shift to the e above hull for the formula unit\n",
    "            \n",
    "    for i in range(len(chempots)): #manipulate and shift data for graphs\n",
    "        ynew = (evolutions[i]*(-chempots[i]) + enthalpies[i]) - yshift\n",
    "        yvec.append(ynew)            \n",
    "    \n",
    "    return [chempots, phases, yvec, enthalpies, reactions]"
   ]
  },
  {
   "cell_type": "code",
   "execution_count": 11,
   "metadata": {
    "collapsed": true
   },
   "outputs": [],
   "source": [
    "%matplotlib inline\n",
    "\n",
    "import matplotlib as mpl\n",
    "import numpy as np\n",
    "import matplotlib.pyplot as plt\n",
    "import matplotlib.font_manager\n",
    "import matplotlib.patches as patches\n",
    "\n",
    "# mpl.rcdefaults()\n",
    "\n",
    "f_size = 14\n",
    "mpl.rcParams['xtick.labelsize']=f_size\n",
    "mpl.rcParams['ytick.labelsize']=f_size\n",
    "mpl.rcParams['axes.labelweight']='light'\n",
    "mpl.rcParams['axes.labelsize']=f_size\n",
    "mpl.rcParams['font.size']=f_size\n",
    "mpl.rcParams['font.family']='sans-serif'\n",
    "mpl.rcParams['font.sans-serif']='Arial'\n",
    "mpl.rcParams['font.style']='normal'\n",
    "mpl.rcParams['font.weight']='light'\n",
    "mpl.rcParams['mathtext.fontset'] = 'custom'\n",
    "mpl.rcParams['mathtext.rm'] = 'Arial'\n",
    "mpl.rcParams[\"figure.figsize\"] = (8,5)\n",
    "\n",
    "import pandas as pnds"
   ]
  },
  {
   "cell_type": "code",
   "execution_count": 30,
   "metadata": {},
   "outputs": [],
   "source": [
    "S_cpe = get_chempots_phases_enthalpies(['S','O'],'S','O')\n",
    "Li_cpe = get_chempots_phases_enthalpies(['Li','O'],'Li','O')"
   ]
  },
  {
   "cell_type": "code",
   "execution_count": 31,
   "metadata": {},
   "outputs": [
    {
     "data": {
      "text/html": [
       "<div>\n",
       "<style>\n",
       "    .dataframe thead tr:only-child th {\n",
       "        text-align: right;\n",
       "    }\n",
       "\n",
       "    .dataframe thead th {\n",
       "        text-align: left;\n",
       "    }\n",
       "\n",
       "    .dataframe tbody tr th {\n",
       "        vertical-align: top;\n",
       "    }\n",
       "</style>\n",
       "<table border=\"1\" class=\"dataframe\">\n",
       "  <thead>\n",
       "    <tr style=\"text-align: right;\">\n",
       "      <th></th>\n",
       "      <th>$\\mu_O$ (eV)</th>\n",
       "      <th>Phase Equilibria</th>\n",
       "      <th>Reaction</th>\n",
       "      <th>Rxn Energy (eV/atom)</th>\n",
       "    </tr>\n",
       "  </thead>\n",
       "  <tbody>\n",
       "    <tr>\n",
       "      <th>0</th>\n",
       "      <td>0.000</td>\n",
       "      <td>[SO3]</td>\n",
       "      <td>S + 1.5 O2 -&gt; SO3</td>\n",
       "      <td>-7.044</td>\n",
       "    </tr>\n",
       "    <tr>\n",
       "      <th>1</th>\n",
       "      <td>-1.771</td>\n",
       "      <td>[SO2]</td>\n",
       "      <td>S + O2 -&gt; SO2</td>\n",
       "      <td>-5.273</td>\n",
       "    </tr>\n",
       "    <tr>\n",
       "      <th>2</th>\n",
       "      <td>-2.636</td>\n",
       "      <td>[S]</td>\n",
       "      <td>S -&gt; S</td>\n",
       "      <td>0.000</td>\n",
       "    </tr>\n",
       "  </tbody>\n",
       "</table>\n",
       "</div>"
      ],
      "text/plain": [
       "   $\\mu_O$ (eV) Phase Equilibria           Reaction  Rxn Energy (eV/atom)\n",
       "0         0.000            [SO3]  S + 1.5 O2 -> SO3                -7.044\n",
       "1        -1.771            [SO2]      S + O2 -> SO2                -5.273\n",
       "2        -2.636              [S]             S -> S                 0.000"
      ]
     },
     "metadata": {},
     "output_type": "display_data"
    },
    {
     "data": {
      "text/html": [
       "<div>\n",
       "<style>\n",
       "    .dataframe thead tr:only-child th {\n",
       "        text-align: right;\n",
       "    }\n",
       "\n",
       "    .dataframe thead th {\n",
       "        text-align: left;\n",
       "    }\n",
       "\n",
       "    .dataframe tbody tr th {\n",
       "        vertical-align: top;\n",
       "    }\n",
       "</style>\n",
       "<table border=\"1\" class=\"dataframe\">\n",
       "  <thead>\n",
       "    <tr style=\"text-align: right;\">\n",
       "      <th></th>\n",
       "      <th>$\\mu_O$ (eV)</th>\n",
       "      <th>Phase Equilibria</th>\n",
       "      <th>Reaction</th>\n",
       "      <th>Rxn Energy (eV/atom)</th>\n",
       "    </tr>\n",
       "  </thead>\n",
       "  <tbody>\n",
       "    <tr>\n",
       "      <th>0</th>\n",
       "      <td>0.000</td>\n",
       "      <td>[Li2O2]</td>\n",
       "      <td>0.5 O2 + Li -&gt; 0.5 Li2O2</td>\n",
       "      <td>-3.300</td>\n",
       "    </tr>\n",
       "    <tr>\n",
       "      <th>1</th>\n",
       "      <td>-0.387</td>\n",
       "      <td>[Li2O]</td>\n",
       "      <td>0.25 O2 + Li -&gt; 0.5 Li2O</td>\n",
       "      <td>-3.106</td>\n",
       "    </tr>\n",
       "    <tr>\n",
       "      <th>2</th>\n",
       "      <td>-6.213</td>\n",
       "      <td>[Li]</td>\n",
       "      <td>Li -&gt; Li</td>\n",
       "      <td>0.000</td>\n",
       "    </tr>\n",
       "  </tbody>\n",
       "</table>\n",
       "</div>"
      ],
      "text/plain": [
       "   $\\mu_O$ (eV) Phase Equilibria                  Reaction  \\\n",
       "0         0.000          [Li2O2]  0.5 O2 + Li -> 0.5 Li2O2   \n",
       "1        -0.387           [Li2O]  0.25 O2 + Li -> 0.5 Li2O   \n",
       "2        -6.213             [Li]                  Li -> Li   \n",
       "\n",
       "   Rxn Energy (eV/atom)  \n",
       "0                -3.300  \n",
       "1                -3.106  \n",
       "2                 0.000  "
      ]
     },
     "metadata": {},
     "output_type": "display_data"
    }
   ],
   "source": [
    "pnds.options.display.float_format = '{:.3f}'.format\n",
    "\n",
    "table1 = pnds.DataFrame({r'$\\mu_O$ (eV)':S_cpe[0],\n",
    "                      'Phase Equilibria':S_cpe[1],\n",
    "                     r'Rxn Energy (eV/atom)':S_cpe[3],\n",
    "                        'Reaction':S_cpe[4]})\n",
    "table2 = pnds.DataFrame({r'$\\mu_O$ (eV)':Li_cpe[0],\n",
    "                      'Phase Equilibria':Li_cpe[1],\n",
    "                     r'Rxn Energy (eV/atom)':Li_cpe[3],\n",
    "                        'Reaction':Li_cpe[4]})\n",
    "\n",
    "display(table1)\n",
    "display(table2)"
   ]
  },
  {
   "cell_type": "code",
   "execution_count": 32,
   "metadata": {},
   "outputs": [
    {
     "data": {
      "image/png": "[encoded data removed]",
      "text/plain": [
       "<matplotlib.figure.Figure at 0x10c7ecc50>"
      ]
     },
     "metadata": {},
     "output_type": "display_data"
    }
   ],
   "source": [
    "fig, ax = plt.subplots()\n",
    "\n",
    "ax.set_ylabel(r'$\\Delta$H of Reaction (eV/atom)')\n",
    "ax.set_xlabel(r'$\\mu_O$ (eV)')\n",
    "\n",
    "p1 = plt.plot((S_cpe[0] + [-10]), (S_cpe[2] + [S_cpe[2][-1]]), 'o', ls='-', label= r'S')\n",
    "p2 = plt.plot(Li_cpe[0] + [-10], Li_cpe[2] + [S_cpe[2][-1]], 'o', ls='-', label= r'Li')\n",
    "\n",
    "plt.xlim(-6.5, 0.5)\n",
    "ax.invert_xaxis()\n",
    "legend = ax.legend(loc='lower center')\n",
    "plt.show()"
   ]
  },
  {
   "cell_type": "code",
   "execution_count": 33,
   "metadata": {
    "collapsed": true
   },
   "outputs": [],
   "source": [
    "LPS_cpe = get_chempots_phases_enthalpies(['Li','P','S','O'],'Li3PS4','O')"
   ]
  },
  {
   "cell_type": "code",
   "execution_count": 36,
   "metadata": {},
   "outputs": [
    {
     "data": {
      "text/html": [
       "<div>\n",
       "<style>\n",
       "    .dataframe thead tr:only-child th {\n",
       "        text-align: right;\n",
       "    }\n",
       "\n",
       "    .dataframe thead th {\n",
       "        text-align: left;\n",
       "    }\n",
       "\n",
       "    .dataframe tbody tr th {\n",
       "        vertical-align: top;\n",
       "    }\n",
       "</style>\n",
       "<table border=\"1\" class=\"dataframe\">\n",
       "  <thead>\n",
       "    <tr style=\"text-align: right;\">\n",
       "      <th></th>\n",
       "      <th>$\\mu_O$ (eV)</th>\n",
       "      <th>Phase Equilibria</th>\n",
       "      <th>Reaction</th>\n",
       "      <th>Rxn Energy (eV/atom)</th>\n",
       "    </tr>\n",
       "  </thead>\n",
       "  <tbody>\n",
       "    <tr>\n",
       "      <th>0</th>\n",
       "      <td>0.000</td>\n",
       "      <td>[Li2S2O7, P2O5, SO3]</td>\n",
       "      <td>8 O2 + Li3PS4 -&gt; SO3 + 1.5 Li2S2O7 + 0.5 P2O5</td>\n",
       "      <td>-42.358</td>\n",
       "    </tr>\n",
       "    <tr>\n",
       "      <th>1</th>\n",
       "      <td>-1.771</td>\n",
       "      <td>[Li2S2O7, SO2, P2O5]</td>\n",
       "      <td>7.5 O2 + Li3PS4 -&gt; SO2 + 1.5 Li2S2O7 + 0.5 P2O5</td>\n",
       "      <td>-40.587</td>\n",
       "    </tr>\n",
       "    <tr>\n",
       "      <th>2</th>\n",
       "      <td>-2.012</td>\n",
       "      <td>[Li2S2O7, SO2, LiPO3]</td>\n",
       "      <td>7 O2 + Li3PS4 -&gt; 2 SO2 + LiPO3 + Li2S2O7</td>\n",
       "      <td>-38.575</td>\n",
       "    </tr>\n",
       "    <tr>\n",
       "      <th>3</th>\n",
       "      <td>-2.341</td>\n",
       "      <td>[Li2SO4, SO2, LiPO3]</td>\n",
       "      <td>6.5 O2 + Li3PS4 -&gt; 3 SO2 + LiPO3 + Li2SO4</td>\n",
       "      <td>-36.234</td>\n",
       "    </tr>\n",
       "    <tr>\n",
       "      <th>4</th>\n",
       "      <td>-2.594</td>\n",
       "      <td>[P2S7, LiPO3, Li2SO4]</td>\n",
       "      <td>3.125 O2 + Li3PS4 -&gt; 0.25 LiPO3 + 1.375 Li2SO4...</td>\n",
       "      <td>-18.722</td>\n",
       "    </tr>\n",
       "    <tr>\n",
       "      <th>5</th>\n",
       "      <td>-2.722</td>\n",
       "      <td>[Li4P2O7, Li2SO4, P2S7]</td>\n",
       "      <td>2.944 O2 + Li3PS4 -&gt; 0.1111 Li4P2O7 + 1.278 Li...</td>\n",
       "      <td>-17.739</td>\n",
       "    </tr>\n",
       "    <tr>\n",
       "      <th>6</th>\n",
       "      <td>-2.807</td>\n",
       "      <td>[P2S7, Li2SO4, Li3PO4]</td>\n",
       "      <td>2.8 O2 + Li3PS4 -&gt; 0.2 Li3PO4 + 1.2 Li2SO4 + 0...</td>\n",
       "      <td>-16.928</td>\n",
       "    </tr>\n",
       "    <tr>\n",
       "      <th>7</th>\n",
       "      <td>-3.023</td>\n",
       "      <td>[Li3PS4]</td>\n",
       "      <td>Li3PS4 -&gt; Li3PS4</td>\n",
       "      <td>0.000</td>\n",
       "    </tr>\n",
       "  </tbody>\n",
       "</table>\n",
       "</div>"
      ],
      "text/plain": [
       "   $\\mu_O$ (eV)         Phase Equilibria  \\\n",
       "0         0.000     [Li2S2O7, P2O5, SO3]   \n",
       "1        -1.771     [Li2S2O7, SO2, P2O5]   \n",
       "2        -2.012    [Li2S2O7, SO2, LiPO3]   \n",
       "3        -2.341     [Li2SO4, SO2, LiPO3]   \n",
       "4        -2.594    [P2S7, LiPO3, Li2SO4]   \n",
       "5        -2.722  [Li4P2O7, Li2SO4, P2S7]   \n",
       "6        -2.807   [P2S7, Li2SO4, Li3PO4]   \n",
       "7        -3.023                 [Li3PS4]   \n",
       "\n",
       "                                            Reaction  Rxn Energy (eV/atom)  \n",
       "0      8 O2 + Li3PS4 -> SO3 + 1.5 Li2S2O7 + 0.5 P2O5               -42.358  \n",
       "1    7.5 O2 + Li3PS4 -> SO2 + 1.5 Li2S2O7 + 0.5 P2O5               -40.587  \n",
       "2           7 O2 + Li3PS4 -> 2 SO2 + LiPO3 + Li2S2O7               -38.575  \n",
       "3          6.5 O2 + Li3PS4 -> 3 SO2 + LiPO3 + Li2SO4               -36.234  \n",
       "4  3.125 O2 + Li3PS4 -> 0.25 LiPO3 + 1.375 Li2SO4...               -18.722  \n",
       "5  2.944 O2 + Li3PS4 -> 0.1111 Li4P2O7 + 1.278 Li...               -17.739  \n",
       "6  2.8 O2 + Li3PS4 -> 0.2 Li3PO4 + 1.2 Li2SO4 + 0...               -16.928  \n",
       "7                                   Li3PS4 -> Li3PS4                 0.000  "
      ]
     },
     "metadata": {},
     "output_type": "display_data"
    }
   ],
   "source": [
    "table1 = pnds.DataFrame({r'$\\mu_O$ (eV)':LPS_cpe[0],\n",
    "                      'Phase Equilibria':LPS_cpe[1],\n",
    "                     r'Rxn Energy (eV/atom)':LPS_cpe[3],\n",
    "                        'Reaction':LPS_cpe[4]})\n",
    "display(table1)"
   ]
  },
  {
   "cell_type": "code",
   "execution_count": 41,
   "metadata": {},
   "outputs": [
    {
     "data": {
      "image/png": "[encoded data removed]",
      "text/plain": [
       "<matplotlib.figure.Figure at 0x10c55f510>"
      ]
     },
     "metadata": {},
     "output_type": "display_data"
    }
   ],
   "source": [
    "fig, ax = plt.subplots()\n",
    "\n",
    "ax.set_ylabel(r'$\\Delta$H of Reaction (eV/atom)')\n",
    "ax.set_xlabel(r'$\\mu_O$ (eV)')\n",
    "\n",
    "p1 = plt.plot((LPS_cpe[0]), (LPS_cpe[2]), 'o', ls='-', label= r'S')\n",
    "\n",
    "ax.invert_xaxis()\n",
    "plt.title(r'$\\Delta$H of Reaction of Li$_3$PS$_4$ with O$_2$ vs Chemical Potential')\n",
    "plt.show()\n"
   ]
  },
  {
   "cell_type": "code",
   "execution_count": null,
   "metadata": {
    "collapsed": true
   },
   "outputs": [],
   "source": []
  }
 ],
 "metadata": {
  "kernelspec": {
   "display_name": "Python 2",
   "language": "python",
   "name": "python2"
  },
  "language_info": {
   "codemirror_mode": {
    "name": "ipython",
    "version": 2
   },
   "file_extension": ".py",
   "mimetype": "text/x-python",
   "name": "python",
   "nbconvert_exporter": "python",
   "pygments_lexer": "ipython2",
   "version": "2.7.13"
  }
 },
 "nbformat": 4,
 "nbformat_minor": 2
}
